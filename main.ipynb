{
 "cells": [
  {
   "cell_type": "code",
   "execution_count": 1,
   "metadata": {},
   "outputs": [],
   "source": [
    "import pandas as pd\n",
    "import statistics"
   ]
  },
  {
   "cell_type": "code",
   "execution_count": 2,
   "metadata": {},
   "outputs": [],
   "source": [
    "df = pd.read_csv(\"train copy.csv\")"
   ]
  },
  {
   "cell_type": "code",
   "execution_count": 46,
   "metadata": {},
   "outputs": [
    {
     "name": "stdout",
     "output_type": "stream",
     "text": [
      "lang = (GER) , nb= 900 , moy length= 1953.183 , max length= 4141 , min length= 333 , esperance length= 367.825 , moy nb mot : 376.533 , max nb mot: 806 , min nb mot: 63 , esperance nb mot: 69.772 , moy nb phrase: 18.434 , max nb phrase: 40 , min nb phrase: 5 , esperance nb phrase: 4.336\n",
      "lang = (TUR) , nb= 900 , moy length= 1842.067 , max length= 4154 , min length= 68 , esperance length= 437.446 , moy nb mot : 352.671 , max nb mot: 776 , min nb mot: 15 , esperance nb mot: 83.303 , moy nb phrase: 18.611 , max nb phrase: 44 , min nb phrase: 1 , esperance nb phrase: 5.567\n",
      "lang = (CHI) , nb= 900 , moy length= 1852.431 , max length= 4620 , min length= 91 , esperance length= 432.747 , moy nb mot : 361.812 , max nb mot: 876 , min nb mot: 16 , esperance nb mot: 82.095 , moy nb phrase: 18.448 , max nb phrase: 38 , min nb phrase: 2 , esperance nb phrase: 5.329\n",
      "lang = (TEL) , nb= 900 , moy length= 1900.249 , max length= 4073 , min length= 747 , esperance length= 386.31 , moy nb mot : 359.039 , max nb mot: 785 , min nb mot: 136 , esperance nb mot: 72.375 , moy nb phrase: 17.713 , max nb phrase: 46 , min nb phrase: 1 , esperance nb phrase: 5.708\n",
      "lang = (ARA) , nb= 900 , moy length= 1579.736 , max length= 3654 , min length= 62 , esperance length= 472.772 , moy nb mot : 310.129 , max nb mot: 715 , min nb mot: 11 , esperance nb mot: 90.278 , moy nb phrase: 13.026 , max nb phrase: 34 , min nb phrase: 1 , esperance nb phrase: 5.715\n",
      "lang = (SPA) , nb= 900 , moy length= 1841.82 , max length= 3854 , min length= 400 , esperance length= 384.878 , moy nb mot : 361.957 , max nb mot: 774 , min nb mot: 73 , esperance nb mot: 75.019 , moy nb phrase: 14.81 , max nb phrase: 36 , min nb phrase: 1 , esperance nb phrase: 5.077\n",
      "lang = (HIN) , nb= 900 , moy length= 2038.392 , max length= 4378 , min length= 826 , esperance length= 428.456 , moy nb mot : 385.337 , max nb mot: 804 , min nb mot: 168 , esperance nb mot: 79.476 , moy nb phrase: 18.594 , max nb phrase: 45 , min nb phrase: 1 , esperance nb phrase: 5.396\n",
      "lang = (JPN) , nb= 900 , moy length= 1594.398 , max length= 3352 , min length= 59 , esperance length= 467.699 , moy nb mot : 312.776 , max nb mot: 669 , min nb mot: 12 , esperance nb mot: 90.176 , moy nb phrase: 18.074 , max nb phrase: 38 , min nb phrase: 3 , esperance nb phrase: 5.248\n",
      "lang = (KOR) , nb= 900 , moy length= 1738.837 , max length= 3592 , min length= 96 , esperance length= 487.093 , moy nb mot : 336.628 , max nb mot: 696 , min nb mot: 22 , esperance nb mot: 93.881 , moy nb phrase: 19.229 , max nb phrase: 43 , min nb phrase: 2 , esperance nb phrase: 5.795\n",
      "lang = (FRE) , nb= 900 , moy length= 1809.983 , max length= 3197 , min length= 327 , esperance length= 383.016 , moy nb mot : 353.77 , max nb mot: 628 , min nb mot: 60 , esperance nb mot: 74.776 , moy nb phrase: 17.006 , max nb phrase: 64 , min nb phrase: 1 , esperance nb phrase: 5.124\n",
      "lang = (ITA) , nb= 900 , moy length= 1665.043 , max length= 3147 , min length= 82 , esperance length= 397.033 , moy nb mot : 325.79 , max nb mot: 613 , min nb mot: 15 , esperance nb mot: 76.374 , moy nb phrase: 13.711 , max nb phrase: 35 , min nb phrase: 2 , esperance nb phrase: 4.546\n"
     ]
    }
   ],
   "source": [
    "lang = df[\"Lang\"].unique()\n",
    "res = {}\n",
    "for l in lang:\n",
    "    res[l] = {}\n",
    "\n",
    "for i in df[\"Lang\"].unique():\n",
    "    res[i][\"nb\"] = df[df[\"Lang\"] == i][\"Lang\"].count()\n",
    "    res[i][\"moy length\"] = df[df[\"Lang\"] == i][\"Text\"].str.len().mean()\n",
    "    res[i][\"max length\"] = df[df[\"Lang\"] == i][\"Text\"].str.len().max()\n",
    "    res[i][\"min length\"] = df[df[\"Lang\"] == i][\"Text\"].str.len().min()\n",
    "    res[i][\"esperance length\"] = df[df[\"Lang\"] == i][\"Text\"].str.len().std()\n",
    "    res[i][\"moy nb mot\"] = df[df[\"Lang\"] == i][\"Text\"].str.split().str.len().mean()\n",
    "    res[i][\"max nb mot\"] = df[df[\"Lang\"] == i][\"Text\"].str.split().str.len().max()\n",
    "    res[i][\"min nb mot\"] = df[df[\"Lang\"] == i][\"Text\"].str.split().str.len().min()\n",
    "    res[i][\"esperance nb mot\"] = df[df[\"Lang\"] == i][\"Text\"].str.split().str.len().std()\n",
    "    res[i][\"moy nb phrase\"] = df[df[\"Lang\"] == i][\"Text\"].str.split(\".\").str.len().mean()\n",
    "    res[i][\"max nb phrase\"] = df[df[\"Lang\"] == i][\"Text\"].str.split(\".\").str.len().max()\n",
    "    res[i][\"min nb phrase\"] = df[df[\"Lang\"] == i][\"Text\"].str.split(\".\").str.len().min()\n",
    "    res[i][\"esperance nb phrase\"] = df[df[\"Lang\"] == i][\"Text\"].str.split(\".\").str.len().std()\n",
    "    \n",
    "\n",
    "    print(\n",
    "        \"lang =\", i, \", nb=\", round(df[df[\"Lang\"] == i][\"Lang\"].count(), 3), \n",
    "        \", moy length=\", round(df[df[\"Lang\"] == i][\"Text\"].str.len().mean(), 3), \n",
    "        \", max length=\", round(df[df[\"Lang\"] == i][\"Text\"].str.len().max(), 3),\n",
    "        \", min length=\", round(df[df[\"Lang\"] == i][\"Text\"].str.len().min(), 3),\n",
    "        \", esperance length=\", round(df[df[\"Lang\"] == i][\"Text\"].str.len().std(), 3),\n",
    "        \", moy nb mot :\", round(df[df[\"Lang\"] == i][\"Text\"].str.split().str.len().mean(), 3),\n",
    "        \", max nb mot:\", round(df[df[\"Lang\"] == i][\"Text\"].str.split().str.len().max(), 3),\n",
    "        \", min nb mot:\", round(df[df[\"Lang\"] == i][\"Text\"].str.split().str.len().min(), 3),\n",
    "        \", esperance nb mot:\", round(df[df[\"Lang\"] == i][\"Text\"].str.split().str.len().std(), 3),\n",
    "        \", moy nb phrase:\", round(df[df[\"Lang\"] == i][\"Text\"].str.split(\".\").str.len().mean(), 3),\n",
    "        \", max nb phrase:\", round(df[df[\"Lang\"] == i][\"Text\"].str.split(\".\").str.len().max(), 3),\n",
    "        \", min nb phrase:\", round(df[df[\"Lang\"] == i][\"Text\"].str.split(\".\").str.len().min(), 3),\n",
    "        \", esperance nb phrase:\", round(df[df[\"Lang\"] == i][\"Text\"].str.split(\".\").str.len().std(), 3),\n",
    "    )\n"
   ]
  },
  {
   "cell_type": "code",
   "execution_count": 11,
   "metadata": {},
   "outputs": [],
   "source": [
    "from sklearn.linear_model import LogisticRegression\n",
    "from sklearn.tree import DecisionTreeClassifier\n",
    "from sklearn.ensemble import RandomForestClassifier, GradientBoostingClassifier\n",
    "from sklearn.neighbors import KNeighborsClassifier\n",
    "from sklearn.naive_bayes import GaussianNB\n",
    "from sklearn.neural_network import MLPClassifier"
   ]
  },
  {
   "cell_type": "code",
   "execution_count": 16,
   "metadata": {},
   "outputs": [
    {
     "name": "stdout",
     "output_type": "stream",
     "text": [
      "Accuracy: 0.6237373737373737\n"
     ]
    }
   ],
   "source": [
    "from sklearn.model_selection import train_test_split\n",
    "from sklearn.feature_extraction.text import CountVectorizer\n",
    "from sklearn.linear_model import LogisticRegression\n",
    "from sklearn.metrics import accuracy_score\n",
    "from sklearn import preprocessing\n",
    "\n",
    "# Split the data into training and testing sets\n",
    "y = df[\"Lang\"]\n",
    "X = df[\"Text\"].values\n",
    "\n",
    "vectorizer = CountVectorizer()\n",
    "X = vectorizer.fit_transform(X)\n",
    "\n",
    "scaler = preprocessing.StandardScaler(with_mean=False).fit(X)\n",
    "X_scaled = scaler.transform(X)\n",
    "\n",
    "X_train, X_test, y_train, y_test = train_test_split(X_scaled, y, test_size=0.2, random_state=42)\n",
    "\n",
    "# Create and train the logistic regression model\n",
    "model = LogisticRegression()\n",
    "model.fit(X_train, y_train)\n",
    "\n",
    "# Make predictions on the test set\n",
    "y_pred = model.predict(X_test)\n",
    "\n",
    "# Evaluate the accuracy of the model\n",
    "accuracy = accuracy_score(y_test, y_pred)\n",
    "print(\"Accuracy:\", accuracy)\n"
   ]
  }
 ],
 "metadata": {
  "kernelspec": {
   "display_name": ".extract_venv",
   "language": "python",
   "name": "python3"
  },
  "language_info": {
   "codemirror_mode": {
    "name": "ipython",
    "version": 3
   },
   "file_extension": ".py",
   "mimetype": "text/x-python",
   "name": "python",
   "nbconvert_exporter": "python",
   "pygments_lexer": "ipython3",
   "version": "3.10.12"
  }
 },
 "nbformat": 4,
 "nbformat_minor": 2
}
