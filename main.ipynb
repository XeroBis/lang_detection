{
 "cells": [
  {
   "cell_type": "code",
   "execution_count": 1,
   "metadata": {},
   "outputs": [],
   "source": [
    "import pandas as pd\n",
    "import statistics"
   ]
  },
  {
   "cell_type": "code",
   "execution_count": 2,
   "metadata": {},
   "outputs": [],
   "source": [
    "df = pd.read_csv(\"train.csv\")"
   ]
  },
  {
   "cell_type": "code",
   "execution_count": 3,
   "metadata": {},
   "outputs": [],
   "source": [
    "for i in df[\"Lang\"].unique():\n",
    "    df[df[\"Lang\"] == i].to_csv(f\"data/{i}.csv\", index=False)"
   ]
  },
  {
   "cell_type": "code",
   "execution_count": 4,
   "metadata": {},
   "outputs": [
    {
     "name": "stdout",
     "output_type": "stream",
     "text": [
      "lang = GER , nb= 900 , moy length= 1952.983 , max length= 4141 , min length= 333 , esperance length= 367.666 , moy nb mot : 376.533 , max nb mot: 806 , min nb mot: 63 , esperance nb mot: 69.772 , moy nb phrase: 18.434 , max nb phrase: 40 , min nb phrase: 5 , esperance nb phrase: 4.336\n",
      "lang = TUR , nb= 900 , moy length= 1841.998 , max length= 4154 , min length= 68 , esperance length= 437.412 , moy nb mot : 352.671 , max nb mot: 776 , min nb mot: 15 , esperance nb mot: 83.303 , moy nb phrase: 18.611 , max nb phrase: 44 , min nb phrase: 1 , esperance nb phrase: 5.567\n",
      "lang = CHI , nb= 900 , moy length= 1852.389 , max length= 4620 , min length= 91 , esperance length= 432.715 , moy nb mot : 361.812 , max nb mot: 876 , min nb mot: 16 , esperance nb mot: 82.095 , moy nb phrase: 18.448 , max nb phrase: 38 , min nb phrase: 2 , esperance nb phrase: 5.329\n",
      "lang = TEL , nb= 900 , moy length= 1900.13 , max length= 4073 , min length= 747 , esperance length= 386.245 , moy nb mot : 359.039 , max nb mot: 785 , min nb mot: 136 , esperance nb mot: 72.375 , moy nb phrase: 17.713 , max nb phrase: 46 , min nb phrase: 1 , esperance nb phrase: 5.708\n",
      "lang = ARA , nb= 900 , moy length= 1579.616 , max length= 3653 , min length= 62 , esperance length= 472.709 , moy nb mot : 310.129 , max nb mot: 715 , min nb mot: 11 , esperance nb mot: 90.278 , moy nb phrase: 13.026 , max nb phrase: 34 , min nb phrase: 1 , esperance nb phrase: 5.715\n",
      "lang = SPA , nb= 900 , moy length= 1841.582 , max length= 3853 , min length= 400 , esperance length= 384.748 , moy nb mot : 361.957 , max nb mot: 774 , min nb mot: 73 , esperance nb mot: 75.019 , moy nb phrase: 14.81 , max nb phrase: 36 , min nb phrase: 1 , esperance nb phrase: 5.077\n",
      "lang = HIN , nb= 900 , moy length= 2038.253 , max length= 4376 , min length= 826 , esperance length= 428.374 , moy nb mot : 385.337 , max nb mot: 804 , min nb mot: 168 , esperance nb mot: 79.476 , moy nb phrase: 18.594 , max nb phrase: 45 , min nb phrase: 1 , esperance nb phrase: 5.396\n",
      "lang = JPN , nb= 900 , moy length= 1594.353 , max length= 3351 , min length= 59 , esperance length= 467.684 , moy nb mot : 312.776 , max nb mot: 669 , min nb mot: 12 , esperance nb mot: 90.176 , moy nb phrase: 18.074 , max nb phrase: 38 , min nb phrase: 3 , esperance nb phrase: 5.248\n",
      "lang = KOR , nb= 900 , moy length= 1738.778 , max length= 3592 , min length= 96 , esperance length= 487.083 , moy nb mot : 336.628 , max nb mot: 696 , min nb mot: 22 , esperance nb mot: 93.881 , moy nb phrase: 19.229 , max nb phrase: 43 , min nb phrase: 2 , esperance nb phrase: 5.795\n",
      "lang = FRE , nb= 900 , moy length= 1809.782 , max length= 3194 , min length= 327 , esperance length= 382.906 , moy nb mot : 353.77 , max nb mot: 628 , min nb mot: 60 , esperance nb mot: 74.776 , moy nb phrase: 17.006 , max nb phrase: 64 , min nb phrase: 1 , esperance nb phrase: 5.124\n",
      "lang = ITA , nb= 900 , moy length= 1664.73 , max length= 3147 , min length= 82 , esperance length= 396.913 , moy nb mot : 325.79 , max nb mot: 613 , min nb mot: 15 , esperance nb mot: 76.374 , moy nb phrase: 13.711 , max nb phrase: 35 , min nb phrase: 2 , esperance nb phrase: 4.546\n"
     ]
    }
   ],
   "source": [
    "lang = df[\"Lang\"].unique()\n",
    "res = {}\n",
    "for l in lang:\n",
    "    res[l] = {}\n",
    "\n",
    "for i in df[\"Lang\"].unique():\n",
    "    res[i][\"nb\"] = df[df[\"Lang\"] == i][\"Lang\"].count()\n",
    "    res[i][\"moy length\"] = df[df[\"Lang\"] == i][\"Text\"].str.len().mean()\n",
    "    res[i][\"max length\"] = df[df[\"Lang\"] == i][\"Text\"].str.len().max()\n",
    "    res[i][\"min length\"] = df[df[\"Lang\"] == i][\"Text\"].str.len().min()\n",
    "    res[i][\"esperance length\"] = df[df[\"Lang\"] == i][\"Text\"].str.len().std()\n",
    "    res[i][\"moy nb mot\"] = df[df[\"Lang\"] == i][\"Text\"].str.split().str.len().mean()\n",
    "    res[i][\"max nb mot\"] = df[df[\"Lang\"] == i][\"Text\"].str.split().str.len().max()\n",
    "    res[i][\"min nb mot\"] = df[df[\"Lang\"] == i][\"Text\"].str.split().str.len().min()\n",
    "    res[i][\"esperance nb mot\"] = df[df[\"Lang\"] == i][\"Text\"].str.split().str.len().std()\n",
    "    res[i][\"moy nb phrase\"] = df[df[\"Lang\"] == i][\"Text\"].str.split(\".\").str.len().mean()\n",
    "    res[i][\"max nb phrase\"] = df[df[\"Lang\"] == i][\"Text\"].str.split(\".\").str.len().max()\n",
    "    res[i][\"min nb phrase\"] = df[df[\"Lang\"] == i][\"Text\"].str.split(\".\").str.len().min()\n",
    "    res[i][\"esperance nb phrase\"] = df[df[\"Lang\"] == i][\"Text\"].str.split(\".\").str.len().std()\n",
    "    \n",
    "\n",
    "    print(  \n",
    "        \"lang =\", i, \", nb=\", round(df[df[\"Lang\"] == i][\"Lang\"].count(), 3), \n",
    "        \", moy length=\", round(df[df[\"Lang\"] == i][\"Text\"].str.len().mean(), 3), \n",
    "        \", max length=\", round(df[df[\"Lang\"] == i][\"Text\"].str.len().max(), 3),\n",
    "        \", min length=\", round(df[df[\"Lang\"] == i][\"Text\"].str.len().min(), 3),\n",
    "        \", esperance length=\", round(df[df[\"Lang\"] == i][\"Text\"].str.len().std(), 3),\n",
    "        \", moy nb mot :\", round(df[df[\"Lang\"] == i][\"Text\"].str.split().str.len().mean(), 3),\n",
    "        \", max nb mot:\", round(df[df[\"Lang\"] == i][\"Text\"].str.split().str.len().max(), 3),\n",
    "        \", min nb mot:\", round(df[df[\"Lang\"] == i][\"Text\"].str.split().str.len().min(), 3),\n",
    "        \", esperance nb mot:\", round(df[df[\"Lang\"] == i][\"Text\"].str.split().str.len().std(), 3),\n",
    "        \", moy nb phrase:\", round(df[df[\"Lang\"] == i][\"Text\"].str.split(\".\").str.len().mean(), 3),\n",
    "        \", max nb phrase:\", round(df[df[\"Lang\"] == i][\"Text\"].str.split(\".\").str.len().max(), 3),\n",
    "        \", min nb phrase:\", round(df[df[\"Lang\"] == i][\"Text\"].str.split(\".\").str.len().min(), 3),\n",
    "        \", esperance nb phrase:\", round(df[df[\"Lang\"] == i][\"Text\"].str.split(\".\").str.len().std(), 3),\n",
    "    )\n"
   ]
  },
  {
   "cell_type": "code",
   "execution_count": 5,
   "metadata": {},
   "outputs": [],
   "source": [
    "df[\"length\"] = df[\"Text\"].str.len()\n",
    "df[\"mot\"] = df[\"Text\"].str.split().str.len()\n",
    "df[\"phrase\"] = df[\"Text\"].str.split(\".\").str.len()"
   ]
  },
  {
   "cell_type": "code",
   "execution_count": 6,
   "metadata": {},
   "outputs": [],
   "source": [
    "from sklearn.linear_model import LogisticRegression\n",
    "from sklearn.model_selection import train_test_split\n",
    "from sklearn.feature_extraction.text import CountVectorizer, TfidfVectorizer\n",
    "from sklearn.linear_model import LogisticRegression\n",
    "from sklearn.metrics import accuracy_score\n",
    "from sklearn import preprocessing\n",
    "import numpy as np\n",
    "from scipy.sparse import hstack\n",
    "from sklearn.metrics import ConfusionMatrixDisplay, confusion_matrix"
   ]
  },
  {
   "cell_type": "code",
   "execution_count": 7,
   "metadata": {},
   "outputs": [
    {
     "name": "stdout",
     "output_type": "stream",
     "text": [
      "Accuracy: 0.6555555555555556\n"
     ]
    },
    {
     "name": "stderr",
     "output_type": "stream",
     "text": [
      "/home/fred/.local/lib/python3.10/site-packages/sklearn/linear_model/_logistic.py:460: ConvergenceWarning: lbfgs failed to converge (status=1):\n",
      "STOP: TOTAL NO. of ITERATIONS REACHED LIMIT.\n",
      "\n",
      "Increase the number of iterations (max_iter) or scale the data as shown in:\n",
      "    https://scikit-learn.org/stable/modules/preprocessing.html\n",
      "Please also refer to the documentation for alternative solver options:\n",
      "    https://scikit-learn.org/stable/modules/linear_model.html#logistic-regression\n",
      "  n_iter_i = _check_optimize_result(\n"
     ]
    }
   ],
   "source": [
    "# Vectorize the text and combine with other numerical features\n",
    "vectorizer = TfidfVectorizer()\n",
    "X_text = vectorizer.fit_transform(df['Text'])\n",
    "X_other_numerical = df[[\"mot\", \"length\", \"phrase\"]].values\n",
    "X_all = hstack((X_text, X_other_numerical))\n",
    "\n",
    "X_train, X_test, y_train, y_test = train_test_split(X_all, df[[\"Lang\"]], test_size=0.4, random_state=42)\n",
    "\n",
    "scaler = preprocessing.StandardScaler(with_mean=False).fit(X_train)\n",
    "X_scaled = scaler.transform(X_train)\n",
    "\n",
    "# Create and train the logistic regression model\n",
    "model = LogisticRegression()\n",
    "model.fit(X_scaled, y_train.values.ravel())\n",
    "\n",
    "# Make predictions on the test set\n",
    "scaler = preprocessing.StandardScaler(with_mean=False).fit(X_test)\n",
    "y_pred = model.predict(scaler.transform(X_test))\n",
    "\n",
    "# Evaluate the accuracy of the model\n",
    "accuracy = accuracy_score(y_test, y_pred)\n",
    "print(\"Accuracy:\", accuracy)"
   ]
  },
  {
   "cell_type": "code",
   "execution_count": 8,
   "metadata": {},
   "outputs": [
    {
     "data": {
      "text/plain": [
       "<sklearn.metrics._plot.confusion_matrix.ConfusionMatrixDisplay at 0x76149881bdc0>"
      ]
     },
     "execution_count": 8,
     "metadata": {},
     "output_type": "execute_result"
    },
    {
     "data": {
      "image/png": "[encoded data removed]",
      "text/plain": [
       "<Figure size 640x480 with 2 Axes>"
      ]
     },
     "metadata": {},
     "output_type": "display_data"
    }
   ],
   "source": [
    "ConfusionMatrixDisplay(confusion_matrix=confusion_matrix(y_test, y_pred, labels=df[\"Lang\"].unique()), display_labels=df[\"Lang\"].unique()).plot()"
   ]
  },
  {
   "cell_type": "markdown",
   "metadata": {},
   "source": [
    "# Cross Validation"
   ]
  },
  {
   "cell_type": "markdown",
   "metadata": {},
   "source": [
    "## Shuffle"
   ]
  },
  {
   "cell_type": "code",
   "execution_count": 9,
   "metadata": {},
   "outputs": [],
   "source": [
    "for i in df[\"Lang\"].unique():\n",
    "    df_ara = pd.read_csv(f\"data/{i}.csv\")\n",
    "    df_ara.sample(frac=1).reset_index(drop=True).to_csv(f\"data/{i}.csv\", index=False)"
   ]
  },
  {
   "cell_type": "code",
   "execution_count": 10,
   "metadata": {},
   "outputs": [
    {
     "data": {
      "text/html": [
       "<div>\n",
       "<style scoped>\n",
       "    .dataframe tbody tr th:only-of-type {\n",
       "        vertical-align: middle;\n",
       "    }\n",
       "\n",
       "    .dataframe tbody tr th {\n",
       "        vertical-align: top;\n",
       "    }\n",
       "\n",
       "    .dataframe thead th {\n",
       "        text-align: right;\n",
       "    }\n",
       "</style>\n",
       "<table border=\"1\" class=\"dataframe\">\n",
       "  <thead>\n",
       "    <tr style=\"text-align: right;\">\n",
       "      <th></th>\n",
       "      <th>0</th>\n",
       "      <th>1</th>\n",
       "    </tr>\n",
       "  </thead>\n",
       "  <tbody>\n",
       "    <tr>\n",
       "      <th>0</th>\n",
       "      <td>JPN</td>\n",
       "      <td>I do not agree . Because the car is very conve...</td>\n",
       "    </tr>\n",
       "    <tr>\n",
       "      <th>1</th>\n",
       "      <td>GER</td>\n",
       "      <td>This essay will deal with the question whether...</td>\n",
       "    </tr>\n",
       "    <tr>\n",
       "      <th>2</th>\n",
       "      <td>HIN</td>\n",
       "      <td>I disagree with the idea that in about 20 year...</td>\n",
       "    </tr>\n",
       "    <tr>\n",
       "      <th>3</th>\n",
       "      <td>SPA</td>\n",
       "      <td>The form that people enjoy their life can depe...</td>\n",
       "    </tr>\n",
       "    <tr>\n",
       "      <th>4</th>\n",
       "      <td>ARA</td>\n",
       "      <td>Actually , I think that right . The person who...</td>\n",
       "    </tr>\n",
       "    <tr>\n",
       "      <th>5</th>\n",
       "      <td>TEL</td>\n",
       "      <td>I partially agree with the statement that the ...</td>\n",
       "    </tr>\n",
       "    <tr>\n",
       "      <th>6</th>\n",
       "      <td>ITA</td>\n",
       "      <td>I think it is not so simple to explain about t...</td>\n",
       "    </tr>\n",
       "    <tr>\n",
       "      <th>7</th>\n",
       "      <td>KOR</td>\n",
       "      <td>It is natural that a student studying harder c...</td>\n",
       "    </tr>\n",
       "    <tr>\n",
       "      <th>8</th>\n",
       "      <td>TUR</td>\n",
       "      <td>The pace of the development in science and tec...</td>\n",
       "    </tr>\n",
       "    <tr>\n",
       "      <th>9</th>\n",
       "      <td>CHI</td>\n",
       "      <td>Yes , this right . Most advertisements make pr...</td>\n",
       "    </tr>\n",
       "    <tr>\n",
       "      <th>10</th>\n",
       "      <td>FRE</td>\n",
       "      <td>Today , there is a general opinion about the w...</td>\n",
       "    </tr>\n",
       "    <tr>\n",
       "      <th>11</th>\n",
       "      <td>KOR</td>\n",
       "      <td>Even though it is called the age of specializa...</td>\n",
       "    </tr>\n",
       "    <tr>\n",
       "      <th>12</th>\n",
       "      <td>CHI</td>\n",
       "      <td>Nowadays , quite a few students pay attention ...</td>\n",
       "    </tr>\n",
       "    <tr>\n",
       "      <th>13</th>\n",
       "      <td>SPA</td>\n",
       "      <td>Instead of having broad knowledge of many acad...</td>\n",
       "    </tr>\n",
       "    <tr>\n",
       "      <th>14</th>\n",
       "      <td>TUR</td>\n",
       "      <td>People come to life once so they might as well...</td>\n",
       "    </tr>\n",
       "  </tbody>\n",
       "</table>\n",
       "</div>"
      ],
      "text/plain": [
       "      0                                                  1\n",
       "0   JPN  I do not agree . Because the car is very conve...\n",
       "1   GER  This essay will deal with the question whether...\n",
       "2   HIN  I disagree with the idea that in about 20 year...\n",
       "3   SPA  The form that people enjoy their life can depe...\n",
       "4   ARA  Actually , I think that right . The person who...\n",
       "5   TEL  I partially agree with the statement that the ...\n",
       "6   ITA  I think it is not so simple to explain about t...\n",
       "7   KOR  It is natural that a student studying harder c...\n",
       "8   TUR  The pace of the development in science and tec...\n",
       "9   CHI  Yes , this right . Most advertisements make pr...\n",
       "10  FRE  Today , there is a general opinion about the w...\n",
       "11  KOR  Even though it is called the age of specializa...\n",
       "12  CHI  Nowadays , quite a few students pay attention ...\n",
       "13  SPA  Instead of having broad knowledge of many acad...\n",
       "14  TUR  People come to life once so they might as well..."
      ]
     },
     "execution_count": 10,
     "metadata": {},
     "output_type": "execute_result"
    }
   ],
   "source": [
    "import pandas as pd\n",
    "import glob\n",
    "import random\n",
    "\n",
    "files = glob.glob(\"data/*.csv\")\n",
    "\n",
    "# Read lines from each file\n",
    "lines_from_each_file = []\n",
    "for file_path in files:\n",
    "    with open(file_path, 'r') as file:\n",
    "        lines = file.readlines()[1:]\n",
    "        lines_from_each_file.append(lines)\n",
    "\n",
    "# Alternate lines from each file with random order in each cycle\n",
    "combined_lines = []\n",
    "num_lines = len(lines_from_each_file[0])\n",
    "for i in range(num_lines):\n",
    "    # Shuffle the order of files for each line\n",
    "    random.shuffle(lines_from_each_file)\n",
    "\n",
    "    # Add one line from each file in the shuffled order\n",
    "    for lines in lines_from_each_file:\n",
    "        combined_lines.append(lines[i])\n",
    "\n",
    "# Create DataFrame\n",
    "df = pd.DataFrame([line.split(r',\"') for line in combined_lines])\n",
    "df.drop(columns=[2], inplace=True)\n",
    "df.head(15)\n"
   ]
  },
  {
   "cell_type": "code",
   "execution_count": 11,
   "metadata": {},
   "outputs": [
    {
     "name": "stdout",
     "output_type": "stream",
     "text": [
      "Accuracy: 0.7194444444444444\n"
     ]
    }
   ],
   "source": [
    "tel = pd.read_csv(\"data/TEL.csv\")\n",
    "hin = pd.read_csv(\"data/HIN.csv\")\n",
    "chi = pd.read_csv(\"data/CHI.csv\")\n",
    "fre = pd.read_csv(\"data/FRE.csv\")\n",
    "ita = pd.read_csv(\"data/ITA.csv\")\n",
    "\n",
    "tel_hin = pd.concat([tel, hin])\n",
    "tel_hin\n",
    "\n",
    "vectorizer = CountVectorizer()\n",
    "\n",
    "X = vectorizer.fit_transform(tel_hin[\"Text\"])\n",
    "y = tel_hin[\"Lang\"]\n",
    "\n",
    "X_train, X_test, y_train, y_test = train_test_split(X, y, test_size=0.2, random_state=42)\n",
    "\n",
    "scaler = preprocessing.StandardScaler(with_mean=False).fit(X_train)\n",
    "X_scaled = scaler.transform(X_train)\n",
    "\n",
    "# Create and train the logistic regression model\n",
    "model = LogisticRegression()\n",
    "model.fit(X_scaled, y_train.values.ravel())\n",
    "\n",
    "# Make predictions on the test set\n",
    "# scaler = preprocessing.StandardScaler(with_mean=False).fit(X_test)\n",
    "y_pred = model.predict(scaler.transform(X_test))\n",
    "\n",
    "# Evaluate the accuracy of the model\n",
    "accuracy = accuracy_score(y_test, y_pred)\n",
    "print(\"Accuracy:\", accuracy)"
   ]
  },
  {
   "cell_type": "code",
   "execution_count": 12,
   "metadata": {},
   "outputs": [
    {
     "data": {
      "text/plain": [
       "<sklearn.metrics._plot.confusion_matrix.ConfusionMatrixDisplay at 0x761499a74700>"
      ]
     },
     "execution_count": 12,
     "metadata": {},
     "output_type": "execute_result"
    },
    {
     "data": {
      "image/png": "[encoded data removed]",
      "text/plain": [
       "<Figure size 640x480 with 2 Axes>"
      ]
     },
     "metadata": {},
     "output_type": "display_data"
    }
   ],
   "source": [
    "from sklearn.metrics import confusion_matrix, ConfusionMatrixDisplay\n",
    "\n",
    "ConfusionMatrixDisplay(confusion_matrix=confusion_matrix(y_pred, y_test, labels=tel_hin[\"Lang\"].unique()), display_labels=tel_hin[\"Lang\"].unique()).plot()"
   ]
  },
  {
   "cell_type": "markdown",
   "metadata": {},
   "source": [
    "# Bag Of Words"
   ]
  },
  {
   "cell_type": "code",
   "execution_count": 13,
   "metadata": {},
   "outputs": [],
   "source": [
    "import pandas as pd\n",
    "\n",
    "df = pd.read_csv(\"train.csv\")"
   ]
  },
  {
   "cell_type": "code",
   "execution_count": 14,
   "metadata": {},
   "outputs": [
    {
     "data": {
      "text/plain": [
       "(7920, 45565)"
      ]
     },
     "execution_count": 14,
     "metadata": {},
     "output_type": "execute_result"
    }
   ],
   "source": [
    "# BOW\n",
    "from sklearn.feature_extraction.text import CountVectorizer\n",
    "from sklearn.model_selection import train_test_split\n",
    "\n",
    "X_train, X_test, y_train, y_test = train_test_split(df[\"Text\"], df[\"Lang\"], test_size=0.2, random_state=42)\n",
    "\n",
    "vectorizer = CountVectorizer()\n",
    "X_train_count = vectorizer.fit_transform(X_train)\n",
    "X_train_count.shape"
   ]
  },
  {
   "cell_type": "code",
   "execution_count": 15,
   "metadata": {},
   "outputs": [
    {
     "data": {
      "text/plain": [
       "(7920, 45565)"
      ]
     },
     "execution_count": 15,
     "metadata": {},
     "output_type": "execute_result"
    }
   ],
   "source": [
    "# TF-IDF\n",
    "from sklearn.feature_extraction.text import TfidfTransformer\n",
    "\n",
    "tfidf_transformer = TfidfTransformer(use_idf=False)\n",
    "X_train_tfidf = tfidf_transformer.fit_transform(X_train_count)\n",
    "X_train_tfidf.shape"
   ]
  },
  {
   "cell_type": "code",
   "execution_count": 16,
   "metadata": {},
   "outputs": [
    {
     "data": {
      "text/html": [
       "<style>#sk-container-id-1 {color: black;}#sk-container-id-1 pre{padding: 0;}#sk-container-id-1 div.sk-toggleable {background-color: white;}#sk-container-id-1 label.sk-toggleable__label {cursor: pointer;display: block;width: 100%;margin-bottom: 0;padding: 0.3em;box-sizing: border-box;text-align: center;}#sk-container-id-1 label.sk-toggleable__label-arrow:before {content: \"▸\";float: left;margin-right: 0.25em;color: #696969;}#sk-container-id-1 label.sk-toggleable__label-arrow:hover:before {color: black;}#sk-container-id-1 div.sk-estimator:hover label.sk-toggleable__label-arrow:before {color: black;}#sk-container-id-1 div.sk-toggleable__content {max-height: 0;max-width: 0;overflow: hidden;text-align: left;background-color: #f0f8ff;}#sk-container-id-1 div.sk-toggleable__content pre {margin: 0.2em;color: black;border-radius: 0.25em;background-color: #f0f8ff;}#sk-container-id-1 input.sk-toggleable__control:checked~div.sk-toggleable__content {max-height: 200px;max-width: 100%;overflow: auto;}#sk-container-id-1 input.sk-toggleable__control:checked~label.sk-toggleable__label-arrow:before {content: \"▾\";}#sk-container-id-1 div.sk-estimator input.sk-toggleable__control:checked~label.sk-toggleable__label {background-color: #d4ebff;}#sk-container-id-1 div.sk-label input.sk-toggleable__control:checked~label.sk-toggleable__label {background-color: #d4ebff;}#sk-container-id-1 input.sk-hidden--visually {border: 0;clip: rect(1px 1px 1px 1px);clip: rect(1px, 1px, 1px, 1px);height: 1px;margin: -1px;overflow: hidden;padding: 0;position: absolute;width: 1px;}#sk-container-id-1 div.sk-estimator {font-family: monospace;background-color: #f0f8ff;border: 1px dotted black;border-radius: 0.25em;box-sizing: border-box;margin-bottom: 0.5em;}#sk-container-id-1 div.sk-estimator:hover {background-color: #d4ebff;}#sk-container-id-1 div.sk-parallel-item::after {content: \"\";width: 100%;border-bottom: 1px solid gray;flex-grow: 1;}#sk-container-id-1 div.sk-label:hover label.sk-toggleable__label {background-color: #d4ebff;}#sk-container-id-1 div.sk-serial::before {content: \"\";position: absolute;border-left: 1px solid gray;box-sizing: border-box;top: 0;bottom: 0;left: 50%;z-index: 0;}#sk-container-id-1 div.sk-serial {display: flex;flex-direction: column;align-items: center;background-color: white;padding-right: 0.2em;padding-left: 0.2em;position: relative;}#sk-container-id-1 div.sk-item {position: relative;z-index: 1;}#sk-container-id-1 div.sk-parallel {display: flex;align-items: stretch;justify-content: center;background-color: white;position: relative;}#sk-container-id-1 div.sk-item::before, #sk-container-id-1 div.sk-parallel-item::before {content: \"\";position: absolute;border-left: 1px solid gray;box-sizing: border-box;top: 0;bottom: 0;left: 50%;z-index: -1;}#sk-container-id-1 div.sk-parallel-item {display: flex;flex-direction: column;z-index: 1;position: relative;background-color: white;}#sk-container-id-1 div.sk-parallel-item:first-child::after {align-self: flex-end;width: 50%;}#sk-container-id-1 div.sk-parallel-item:last-child::after {align-self: flex-start;width: 50%;}#sk-container-id-1 div.sk-parallel-item:only-child::after {width: 0;}#sk-container-id-1 div.sk-dashed-wrapped {border: 1px dashed gray;margin: 0 0.4em 0.5em 0.4em;box-sizing: border-box;padding-bottom: 0.4em;background-color: white;}#sk-container-id-1 div.sk-label label {font-family: monospace;font-weight: bold;display: inline-block;line-height: 1.2em;}#sk-container-id-1 div.sk-label-container {text-align: center;}#sk-container-id-1 div.sk-container {/* jupyter's `normalize.less` sets `[hidden] { display: none; }` but bootstrap.min.css set `[hidden] { display: none !important; }` so we also need the `!important` here to be able to override the default hidden behavior on the sphinx rendered scikit-learn.org. See: https://github.com/scikit-learn/scikit-learn/issues/21755 */display: inline-block !important;position: relative;}#sk-container-id-1 div.sk-text-repr-fallback {display: none;}</style><div id=\"sk-container-id-1\" class=\"sk-top-container\"><div class=\"sk-text-repr-fallback\"><pre>Pipeline(steps=[(&#x27;vect&#x27;, CountVectorizer()), (&#x27;tfidf&#x27;, TfidfTransformer()),\n",
       "                (&#x27;clf&#x27;, MultinomialNB())])</pre><b>In a Jupyter environment, please rerun this cell to show the HTML representation or trust the notebook. <br />On GitHub, the HTML representation is unable to render, please try loading this page with nbviewer.org.</b></div><div class=\"sk-container\" hidden><div class=\"sk-item sk-dashed-wrapped\"><div class=\"sk-label-container\"><div class=\"sk-label sk-toggleable\"><input class=\"sk-toggleable__control sk-hidden--visually\" id=\"sk-estimator-id-1\" type=\"checkbox\" ><label for=\"sk-estimator-id-1\" class=\"sk-toggleable__label sk-toggleable__label-arrow\">Pipeline</label><div class=\"sk-toggleable__content\"><pre>Pipeline(steps=[(&#x27;vect&#x27;, CountVectorizer()), (&#x27;tfidf&#x27;, TfidfTransformer()),\n",
       "                (&#x27;clf&#x27;, MultinomialNB())])</pre></div></div></div><div class=\"sk-serial\"><div class=\"sk-item\"><div class=\"sk-estimator sk-toggleable\"><input class=\"sk-toggleable__control sk-hidden--visually\" id=\"sk-estimator-id-2\" type=\"checkbox\" ><label for=\"sk-estimator-id-2\" class=\"sk-toggleable__label sk-toggleable__label-arrow\">CountVectorizer</label><div class=\"sk-toggleable__content\"><pre>CountVectorizer()</pre></div></div></div><div class=\"sk-item\"><div class=\"sk-estimator sk-toggleable\"><input class=\"sk-toggleable__control sk-hidden--visually\" id=\"sk-estimator-id-3\" type=\"checkbox\" ><label for=\"sk-estimator-id-3\" class=\"sk-toggleable__label sk-toggleable__label-arrow\">TfidfTransformer</label><div class=\"sk-toggleable__content\"><pre>TfidfTransformer()</pre></div></div></div><div class=\"sk-item\"><div class=\"sk-estimator sk-toggleable\"><input class=\"sk-toggleable__control sk-hidden--visually\" id=\"sk-estimator-id-4\" type=\"checkbox\" ><label for=\"sk-estimator-id-4\" class=\"sk-toggleable__label sk-toggleable__label-arrow\">MultinomialNB</label><div class=\"sk-toggleable__content\"><pre>MultinomialNB()</pre></div></div></div></div></div></div></div>"
      ],
      "text/plain": [
       "Pipeline(steps=[('vect', CountVectorizer()), ('tfidf', TfidfTransformer()),\n",
       "                ('clf', MultinomialNB())])"
      ]
     },
     "execution_count": 16,
     "metadata": {},
     "output_type": "execute_result"
    }
   ],
   "source": [
    "# Pipeline\n",
    "from sklearn.pipeline import Pipeline\n",
    "from sklearn.naive_bayes import MultinomialNB\n",
    "\n",
    "text_clf = Pipeline(\n",
    "    [\n",
    "        (\"vect\", CountVectorizer()),\n",
    "        (\"tfidf\", TfidfTransformer()),\n",
    "        (\"clf\", MultinomialNB()),\n",
    "    ]\n",
    ")\n",
    "\n",
    "text_clf.fit(X_train, y_train)"
   ]
  },
  {
   "cell_type": "code",
   "execution_count": 17,
   "metadata": {},
   "outputs": [
    {
     "name": "stdout",
     "output_type": "stream",
     "text": [
      "              precision    recall  f1-score   support\n",
      "\n",
      "         GER       0.94      0.26      0.41       170\n",
      "         TUR       0.51      0.48      0.50       175\n",
      "         CHI       0.89      0.39      0.54       193\n",
      "         TEL       0.27      0.95      0.42       172\n",
      "         ARA       0.59      0.73      0.65       176\n",
      "         SPA       0.48      0.77      0.59       164\n",
      "         HIN       0.86      0.26      0.40       186\n",
      "         JPN       0.89      0.17      0.28       201\n",
      "         KOR       0.56      0.31      0.39       196\n",
      "         FRE       0.83      0.60      0.70       179\n",
      "         ITA       0.42      0.67      0.51       168\n",
      "\n",
      "    accuracy                           0.50      1980\n",
      "   macro avg       0.66      0.51      0.49      1980\n",
      "weighted avg       0.67      0.50      0.49      1980\n",
      "\n",
      "[[ 44  11   2  41  15  14   1   0   6   5  31]\n",
      " [  0  84   0  46   5   6   0   2   7   0  25]\n",
      " [  1   2  75  66   2  33   0   0   8   0   6]\n",
      " [  0   0   0 164   0   3   0   0   3   0   2]\n",
      " [  0   5   0  19 129   0   0   0   4  17   2]\n",
      " [  0   0   0  29   0 127   0   0   4   0   4]\n",
      " [  1  26   4  59   1  17  48   2   4   0  24]\n",
      " [  1  34   0  66   6   9   5  34   6   0  40]\n",
      " [  0   0   2  74   2  43   0   0  60   0  15]\n",
      " [  0   1   0   5  54   2   0   0   2 108   7]\n",
      " [  0   1   1  31   5  12   2   0   4   0 112]]\n"
     ]
    }
   ],
   "source": [
    "from sklearn.metrics import classification_report, confusion_matrix\n",
    "\n",
    "categories = df[\"Lang\"].unique().tolist()\n",
    "\n",
    "# Predict the test set results\n",
    "y_pred = text_clf.predict(X_test)\n",
    "\n",
    "# Print the classification report\n",
    "print(classification_report(y_test, y_pred, target_names=categories))\n",
    "\n",
    "# Print the confusion matrix\n",
    "print(confusion_matrix(y_test, y_pred))\n"
   ]
  },
  {
   "cell_type": "code",
   "execution_count": null,
   "metadata": {},
   "outputs": [],
   "source": []
  }
 ],
 "metadata": {
  "kernelspec": {
   "display_name": ".extract_venv",
   "language": "python",
   "name": "python3"
  },
  "language_info": {
   "codemirror_mode": {
    "name": "ipython",
    "version": 3
   },
   "file_extension": ".py",
   "mimetype": "text/x-python",
   "name": "python",
   "nbconvert_exporter": "python",
   "pygments_lexer": "ipython3",
   "version": "3.10.12"
  }
 },
 "nbformat": 4,
 "nbformat_minor": 2
}
